{
 "cells": [
  {
   "cell_type": "code",
   "execution_count": 1,
   "metadata": {},
   "outputs": [],
   "source": [
    "data = open('aoc20-04.txt').read()"
   ]
  },
  {
   "cell_type": "code",
   "execution_count": 2,
   "metadata": {},
   "outputs": [
    {
     "name": "stdout",
     "output_type": "stream",
     "text": [
      "196\n"
     ]
    }
   ],
   "source": [
    "pps = [dict(x.split(':') for x in p.split()) for p in data.split(\"\\n\\n\")]\n",
    "v1 = {'byr','iyr','eyr','hgt','hcl','ecl','pid','cid',}\n",
    "v2 = {'byr','iyr','eyr','hgt','hcl','ecl','pid',}\n",
    "                    \n",
    "print(\n",
    "    sum(\n",
    "        set(p.keys()) == v1\n",
    "        or set(p.keys()) == v2\n",
    "        for p in pps\n",
    "    )\n",
    ")                    "
   ]
  },
  {
   "cell_type": "code",
   "execution_count": 3,
   "metadata": {},
   "outputs": [
    {
     "name": "stdout",
     "output_type": "stream",
     "text": [
      "114\n"
     ]
    }
   ],
   "source": [
    "import re\n",
    "\n",
    "pps = [dict(x.split(':') for x in p.split()) for p in data.split(\"\\n\\n\")]\n",
    "\n",
    "s = 0\n",
    "for p in pps:\n",
    "    if (\n",
    "        (set(p.keys())==v1  or set(p.keys())==v2)\n",
    "        and (1919 < int(p['byr']) < 2003)\n",
    "        and (2009 < int(p['iyr']) < 2021)\n",
    "        and (2019 < int(p['eyr']) < 2031)\n",
    "        and (\n",
    "            (p['hgt'].endswith('in') and (58<int(p['hgt'][:-2])<77) \n",
    "            or p['hgt'].endswith('cm') and (149<int(p['hgt'][:-2])<194))\n",
    "        )\n",
    "        and (re.match('^#[0-9a-f]{6}$', p['hcl']))\n",
    "        and (p['ecl'] in ['amb','blu','brn','gry','grn','hzl','oth'])\n",
    "        and (re.match('^[0-9]{9}$', p['pid']))\n",
    "    ):\n",
    "        s += 1\n",
    "print(s)"
   ]
  }
 ],
 "metadata": {
  "kernelspec": {
   "display_name": "Python 3",
   "language": "python",
   "name": "python3"
  },
  "language_info": {
   "codemirror_mode": {
    "name": "ipython",
    "version": 3
   },
   "file_extension": ".py",
   "mimetype": "text/x-python",
   "name": "python",
   "nbconvert_exporter": "python",
   "pygments_lexer": "ipython3",
   "version": "3.8.6"
  }
 },
 "nbformat": 4,
 "nbformat_minor": 4
}
