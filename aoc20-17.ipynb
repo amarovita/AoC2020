{
 "cells": [
  {
   "cell_type": "code",
   "execution_count": 1,
   "metadata": {},
   "outputs": [],
   "source": [
    "data=\"\"\"...#...#\n",
    "#######.\n",
    "....###.\n",
    ".#..#...\n",
    "#.#.....\n",
    ".##.....\n",
    "#.####..\n",
    "#....##.\"\"\"\n"
   ]
  },
  {
   "cell_type": "code",
   "execution_count": 2,
   "metadata": {},
   "outputs": [
    {
     "output_type": "stream",
     "name": "stdout",
     "text": [
      "293\n"
     ]
    }
   ],
   "source": [
    "d=data.split()\n",
    "cube=[]\n",
    "for y in range(len(d)):\n",
    "    for x in range(len(d[y])):\n",
    "        if d[y][x]==\"#\":\n",
    "            cube.append((x,y,0))\n",
    "            \n",
    "def neib(x, y, z, cube):\n",
    "    n = - ((x, y, z) in cube)\n",
    "    for i in  range(-1, 2):\n",
    "        for j in  range(-1, 2):\n",
    "            for k in  range(-1, 2):\n",
    "                if (x+i, y+j, z+k) in cube:\n",
    "                    n += 1\n",
    "    return n\n",
    "\n",
    "def bnd(cube, ax):\n",
    "    if cube:\n",
    "        a = [xx[ax] for xx in cube]\n",
    "        return range(min(a)-1, max(a)+2)\n",
    "    else:\n",
    "        return range(0)\n",
    "\n",
    "for step in range(6):\n",
    "    newcube = []\n",
    "    for zz in bnd(cube, 2):\n",
    "        for yy in bnd(cube, 1):\n",
    "            for xx in bnd(cube, 0):\n",
    "                alive = (xx, yy, zz) in cube\n",
    "                nn = neib(xx, yy, zz, cube)\n",
    "                if (alive and nn in (2, 3)) or ((not alive) and nn == 3):\n",
    "                    newcube.append((xx, yy, zz))\n",
    "    cube = newcube[:]\n",
    "\n",
    "print(len(cube))\n",
    "                    "
   ]
  },
  {
   "cell_type": "code",
   "execution_count": 3,
   "metadata": {},
   "outputs": [
    {
     "output_type": "stream",
     "name": "stdout",
     "text": [
      "1816\n"
     ]
    }
   ],
   "source": [
    "d=data.split()\n",
    "cube=[]\n",
    "for y in range(len(d)):\n",
    "    for x in range(len(d[y])):\n",
    "        if d[y][x]==\"#\":\n",
    "            cube.append((x,y,0,0))\n",
    "            \n",
    "def neib(x, y, z, w, cube):\n",
    "    n = - ((x, y, z, w) in cube)\n",
    "    for i in  range(-1, 2):\n",
    "        for j in  range(-1, 2):\n",
    "            for k in  range(-1, 2):\n",
    "                for l in  range(-1, 2):\n",
    "                    if (x+i, y+j, z+k, w+l) in cube:\n",
    "                        n += 1\n",
    "    return n\n",
    "\n",
    "def bnd(cube, ax):\n",
    "    if cube:\n",
    "        a = [xx[ax] for xx in cube]\n",
    "        return range(min(a)-1, max(a)+2)\n",
    "    else:\n",
    "        return range(0)\n",
    "\n",
    "for step in range(6):\n",
    "    newcube = []\n",
    "    for ww in bnd(cube, 3):\n",
    "        for zz in bnd(cube, 2):\n",
    "            for yy in bnd(cube, 1):\n",
    "                for xx in bnd(cube, 0):\n",
    "                    alive = (xx, yy, zz, ww) in cube\n",
    "                    nn = neib(xx, yy, zz, ww, cube)\n",
    "                    if (alive and nn in (2, 3)) or ((not alive) and nn == 3):\n",
    "                        newcube.append((xx, yy, zz, ww))\n",
    "    cube = newcube[:]\n",
    "\n",
    "print(len(cube))\n",
    "                    "
   ]
  }
 ],
 "metadata": {
  "kernelspec": {
   "display_name": "Python 3",
   "language": "python",
   "name": "python3"
  },
  "language_info": {
   "codemirror_mode": {
    "name": "ipython",
    "version": 3
   },
   "file_extension": ".py",
   "mimetype": "text/x-python",
   "name": "python",
   "nbconvert_exporter": "python",
   "pygments_lexer": "ipython3",
   "version": "3.8.6-final"
  }
 },
 "nbformat": 4,
 "nbformat_minor": 4
}