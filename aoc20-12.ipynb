{
 "cells": [
  {
   "cell_type": "code",
   "execution_count": 1,
   "metadata": {},
   "outputs": [],
   "source": [
    "data = open('aoc20-12.txt').read()"
   ]
  },
  {
   "cell_type": "code",
   "execution_count": 2,
   "metadata": {},
   "outputs": [
    {
     "output_type": "stream",
     "name": "stdout",
     "text": [
      "562\n"
     ]
    }
   ],
   "source": [
    "code = map(lambda x: (x[0], int(x[1:])),data.split())\n",
    "face = \"E\"\n",
    "step = {'N': (0, -1), 'S': (0, 1), 'W': (-1, 0), 'E': (1, 0)} \n",
    "rot = {'L': 'NWSE', 'R': 'NESW'}\n",
    "def go(x, y, face, code):\n",
    "    if code[0] in 'LR':\n",
    "        face = rot[code[0]][(rot[code[0]].index(face) + code[1]//90) % 4]\n",
    "    else:\n",
    "        z = face if code[0] == 'F' else code[0]\n",
    "        x, y = x + step[z][0] * code[1], y + step[z][1] * code[1]\n",
    "    return x, y, face\n",
    "\n",
    "x = y = 0\n",
    "face = 'E'        \n",
    "\n",
    "for c in code:\n",
    "    x, y, face = go(x, y, face, c)\n",
    "\n",
    "print(abs(x)+abs(y))"
   ]
  },
  {
   "cell_type": "code",
   "execution_count": 3,
   "metadata": {},
   "outputs": [
    {
     "output_type": "stream",
     "name": "stdout",
     "text": [
      "101860\n"
     ]
    }
   ],
   "source": [
    "code = map(lambda x: (x[0], int(x[1:])),data.split())\n",
    "step = {'N': (0, -1), 'S': (0, 1), 'W': (-1, 0), 'E': (1, 0)} \n",
    "\n",
    "def go(x, y, wp, code):\n",
    "    if code[0] == 'L':\n",
    "        for _ in range(code[1]//90):\n",
    "            wp = (wp[1], -wp[0])\n",
    "    elif code[0] == 'R':\n",
    "        for _ in range(code[1]//90):\n",
    "            wp = (-wp[1], wp[0])\n",
    "    elif code[0] == 'F':\n",
    "        x += wp[0] * code[1]\n",
    "        y += wp[1] * code[1]\n",
    "    else:\n",
    "        wp = (wp[0] + step[code[0]][0] * code[1], wp[1] + step[code[0]][1] * code[1],)\n",
    "    return x, y, wp\n",
    "\n",
    "x = y = 0\n",
    "wp = (10, -1)\n",
    "\n",
    "for c in code:\n",
    "    x, y, wp = go(x, y, wp, c)\n",
    "\n",
    "print(abs(x)+abs(y))"
   ]
  }
 ],
 "metadata": {
  "kernelspec": {
   "display_name": "Python 3",
   "language": "python",
   "name": "python3"
  },
  "language_info": {
   "codemirror_mode": {
    "name": "ipython",
    "version": 3
   },
   "file_extension": ".py",
   "mimetype": "text/x-python",
   "name": "python",
   "nbconvert_exporter": "python",
   "pygments_lexer": "ipython3",
   "version": "3.8.6-final"
  }
 },
 "nbformat": 4,
 "nbformat_minor": 4
}