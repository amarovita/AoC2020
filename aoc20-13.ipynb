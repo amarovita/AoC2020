{
 "cells": [
  {
   "cell_type": "code",
   "execution_count": 1,
   "metadata": {},
   "outputs": [],
   "source": [
    "dep = 1001171\n",
    "data = \"\"\"17,x,x,x,x,x,x,41,x,x,x,37,x,x,x,x,x,367,x,x,x,x,x,x,x,x,x,x,x,x,x,x,x,x,x,x,19,x,x,x,23,x,x,x,x,x,29,x,613,x,x,x,x,x,x,x,x,x,x,x,x,13\"\"\""
   ]
  },
  {
   "cell_type": "code",
   "execution_count": 4,
   "metadata": {},
   "outputs": [
    {
     "output_type": "stream",
     "name": "stdout",
     "text": [
      "1835\n"
     ]
    }
   ],
   "source": [
    "buses = [(i, int(x)) for i, x in enumerate(data.split(',')) if x!= 'x']\n",
    "m = float('inf')\n",
    "b = None\n",
    "for bus in buses:\n",
    "    z = bus[1]\n",
    "    n = z - (dep % z)\n",
    "    if n == z:\n",
    "        n == 0\n",
    "    if n < m:\n",
    "        m, b = n, bus\n",
    "print(m * b[1])\n"
   ]
  },
  {
   "cell_type": "code",
   "execution_count": 5,
   "metadata": {},
   "outputs": [
    {
     "output_type": "stream",
     "name": "stdout",
     "text": [
      "247086664214628\n"
     ]
    }
   ],
   "source": [
    "from functools import reduce\n",
    "\n",
    "data = \"\"\"17,x,x,x,x,x,x,41,x,x,x,37,x,x,x,x,x,367,x,x,x,x,x,x,x,x,x,x,x,x,x,x,x,x,x,x,19,x,x,x,23,x,x,x,x,x,29,x,613,x,x,x,x,x,x,x,x,x,x,x,x,13\"\"\"\n",
    "buses = [(i, int(x)) for i, x in enumerate(data.split(',')) if x!= 'x']\n",
    "bN = [b[1] for b in buses]\n",
    "bR = [b[1] - b[0] % b[1] for b in buses]\n",
    "\n",
    "def cr(n, a):\n",
    "    p = reduce(int.__mul__, n)\n",
    "    s = 0\n",
    "    for nn, aa in zip(n, a):\n",
    "        r = p // nn\n",
    "        s += aa * q(r, nn) * r\n",
    "    return s % p\n",
    "\n",
    "def q(a, b):\n",
    "    if b == 1:\n",
    "        return 1\n",
    "    b0 = b\n",
    "    x0, x1 = 0, 1\n",
    "    while a > 1:\n",
    "        z = a // b\n",
    "        x0, x1 = x1 - z * x0, x0\n",
    "        a, b = b, a % b\n",
    "    if x1 < 0:\n",
    "        x1 += b0\n",
    "    return x1\n",
    "\n",
    "print(cr(bN, bR))"
   ]
  }
 ],
 "metadata": {
  "kernelspec": {
   "display_name": "Python 3",
   "language": "python",
   "name": "python3"
  },
  "language_info": {
   "codemirror_mode": {
    "name": "ipython",
    "version": 3
   },
   "file_extension": ".py",
   "mimetype": "text/x-python",
   "name": "python",
   "nbconvert_exporter": "python",
   "pygments_lexer": "ipython3",
   "version": "3.8.6-final"
  }
 },
 "nbformat": 4,
 "nbformat_minor": 4
}