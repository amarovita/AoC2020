{
 "cells": [
  {
   "cell_type": "code",
   "execution_count": 1,
   "metadata": {},
   "outputs": [
    {
     "output_type": "stream",
     "name": "stdout",
     "text": [
      "1373\n"
     ]
    }
   ],
   "source": [
    "data = list(reversed(list(map(int, \"0,1,5,10,3,12,19\".split(',')))))\n",
    "\n",
    "while len(data)<2020:\n",
    "    if data.count(data[0]) == 1:\n",
    "        data.insert(0, 0)\n",
    "    else:\n",
    "        x1 = data[1:].index(data[0])\n",
    "        data.insert(0, x1+1)\n",
    "print(data[0])\n"
   ]
  },
  {
   "cell_type": "code",
   "execution_count": 2,
   "metadata": {},
   "outputs": [
    {
     "output_type": "stream",
     "name": "stdout",
     "text": [
      "112458\n"
     ]
    }
   ],
   "source": [
    "data = list(map(int, \"0,1,5,10,3,12,19\".split(',')))\n",
    "n = len(data)-1\n",
    "nxt = data[-1]\n",
    "data = {y: (-1, x) for x, y in enumerate(data)}\n",
    "while n<30000000:\n",
    "    last = nxt\n",
    "    n += 1\n",
    "    x =  data[last]\n",
    "    if x[0] < 0:\n",
    "        nxt = 0\n",
    "    else:\n",
    "        nxt = x[1]-x[0]\n",
    "    data[nxt] = (data.get(nxt, (-1, -1))[1], n)\n",
    "print(last)\n"
   ]
  }
 ],
 "metadata": {
  "kernelspec": {
   "display_name": "Python 3",
   "language": "python",
   "name": "python3"
  },
  "language_info": {
   "codemirror_mode": {
    "name": "ipython",
    "version": 3
   },
   "file_extension": ".py",
   "mimetype": "text/x-python",
   "name": "python",
   "nbconvert_exporter": "python",
   "pygments_lexer": "ipython3",
   "version": "3.8.6-final"
  }
 },
 "nbformat": 4,
 "nbformat_minor": 4
}