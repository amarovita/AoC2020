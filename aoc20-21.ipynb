{
 "cells": [
  {
   "cell_type": "code",
   "execution_count": 2,
   "metadata": {},
   "outputs": [],
   "source": [
    "data = open('aoc20-21.txt').read()"
   ]
  },
  {
   "cell_type": "code",
   "execution_count": 3,
   "metadata": {},
   "outputs": [
    {
     "output_type": "stream",
     "name": "stdout",
     "text": [
      "2315\n"
     ]
    }
   ],
   "source": [
    "from copy import deepcopy\n",
    "\n",
    "ia = [(x.replace(',','').split(' (contains ')+[')'])[:2] for x in data.split('\\n')]\n",
    "ia = [(x.split(), (y[:-1]).split()) for x, y in ia]\n",
    "alli = set(sum((x for x, y in ia), []))\n",
    "alla = set(sum((y for x, y in ia), []))\n",
    "\n",
    "d = {}\n",
    "for x, y in ia:\n",
    "    for a in y:\n",
    "        d[a] = d.get(a, set(x)) & set(x)\n",
    "\n",
    "while any(len(x)>1 for x in d.values()):\n",
    "    nd = deepcopy(d)\n",
    "    for x, y in d.items():\n",
    "        if len(y)==1:\n",
    "            nd = {u: v - y if v != y else y for u, v in nd.items()}\n",
    "    d = nd\n",
    "\n",
    "good = alli\n",
    "for bad in d.values():\n",
    "    good = good - bad\n",
    "    \n",
    "total = 0\n",
    "for x, _ in ia:\n",
    "    for i in x:\n",
    "        total += i in good\n",
    "        \n",
    "print(total)       "
   ]
  },
  {
   "cell_type": "code",
   "execution_count": 4,
   "metadata": {},
   "outputs": [
    {
     "output_type": "stream",
     "name": "stdout",
     "text": [
      "cfzdnz,htxsjf,ttbrlvd,bbbl,lmds,cbmjz,cmbcm,dvnbh\n"
     ]
    }
   ],
   "source": [
    "il = {list(y)[0]:x for x, y in d.items()}\n",
    "il = sorted(il.keys(), key=il.get)\n",
    "print(','.join(il))\n"
   ]
  }
 ],
 "metadata": {
  "kernelspec": {
   "display_name": "Python 3",
   "language": "python",
   "name": "python3"
  },
  "language_info": {
   "codemirror_mode": {
    "name": "ipython",
    "version": 3
   },
   "file_extension": ".py",
   "mimetype": "text/x-python",
   "name": "python",
   "nbconvert_exporter": "python",
   "pygments_lexer": "ipython3",
   "version": "3.8.6-final"
  }
 },
 "nbformat": 4,
 "nbformat_minor": 4
}