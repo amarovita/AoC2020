{
 "cells": [
  {
   "cell_type": "code",
   "execution_count": 3,
   "metadata": {},
   "outputs": [
    {
     "output_type": "stream",
     "name": "stdout",
     "text": [
      "152937846\n"
     ]
    }
   ],
   "source": [
    "data=\"463528179\"\n",
    "\n",
    "cups = list(map(int,data))\n",
    "\n",
    "def nxt(d):\n",
    "    return (d - 1) or 9\n",
    "\n",
    "def mv(cups):\n",
    "    t = cups[0]\n",
    "    x = cups[1:4]\n",
    "    d = nxt(t)\n",
    "    while d in x:\n",
    "        d = nxt(d)\n",
    "    dp = cups.index(d)\n",
    "    cups =  cups[:1] + cups[4:dp+1] + x + cups[dp+1:]\n",
    "    cups = cups[1:] + cups[:1]\n",
    "    return cups\n",
    "\n",
    "for _ in range(100):\n",
    "    cups = mv(cups)\n",
    "\n",
    "print(''.join(map(str,cups)))"
   ]
  },
  {
   "cell_type": "code",
   "execution_count": 5,
   "metadata": {},
   "outputs": [
    {
     "output_type": "stream",
     "name": "stdout",
     "text": [
      "8456532414\n"
     ]
    }
   ],
   "source": [
    "data=\"463528179\"\n",
    "\n",
    "sz = 1000000\n",
    "cups = list(map(int,data)) + list(range(10, sz+1))\n",
    "top = cups[0]\n",
    "cups={cups[i]:cups[i+1] for i in range(len(cups)-1)}\n",
    "cups[sz] = top\n",
    "\n",
    "def nxt(d):\n",
    "    return (d - 1) or sz\n",
    "\n",
    "def mv(p):\n",
    "    x = [cups[p],cups[cups[p]],cups[cups[cups[p]]]]\n",
    "    d = nxt(p)\n",
    "    while d in x:\n",
    "        d = nxt(d)\n",
    "    cups[p], cups[d], cups[x[2]]=cups[x[2]], x[0], cups[d]    \n",
    "    p = cups[p]\n",
    "    return p\n",
    "\n",
    "ppp = top\n",
    "for _ in range(10000000):\n",
    "    ppp = mv(ppp)\n",
    "        \n",
    "print(cups[1] * cups[cups[1]])\n",
    "         "
   ]
  }
 ],
 "metadata": {
  "kernelspec": {
   "display_name": "Python 3",
   "language": "python",
   "name": "python3"
  },
  "language_info": {
   "codemirror_mode": {
    "name": "ipython",
    "version": 3
   },
   "file_extension": ".py",
   "mimetype": "text/x-python",
   "name": "python",
   "nbconvert_exporter": "python",
   "pygments_lexer": "ipython3",
   "version": "3.8.6-final"
  }
 },
 "nbformat": 4,
 "nbformat_minor": 4
}