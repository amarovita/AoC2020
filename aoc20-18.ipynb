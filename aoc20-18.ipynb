{
 "cells": [
  {
   "cell_type": "code",
   "execution_count": 1,
   "metadata": {},
   "outputs": [],
   "source": [
    "data=open('aoc20-18.txt').read()"
   ]
  },
  {
   "cell_type": "code",
   "execution_count": 2,
   "metadata": {},
   "outputs": [
    {
     "output_type": "stream",
     "name": "stdout",
     "text": [
      "654686398176\n"
     ]
    }
   ],
   "source": [
    "q = data.split('\\n')\n",
    "\n",
    "def solve(x):\n",
    "    def token(x):\n",
    "        if x:\n",
    "            while x and x[0] == ' ':\n",
    "                x = x[1:]\n",
    "            if x:\n",
    "                if x[0].isdigit():\n",
    "                    n = ''\n",
    "                    while x and x[0].isdigit():\n",
    "                        n += x[0]\n",
    "                        x = x[1:]\n",
    "                    return int(n), x\n",
    "                else:\n",
    "                    return x[0], x[1:]\n",
    "        return '', ''\n",
    "    \n",
    "    stack = []\n",
    "    op = ''\n",
    "    while x:\n",
    "        t, x = token(x)\n",
    "        if t == ')' or t=='':\n",
    "            break\n",
    "        elif t in ['+', '*']:\n",
    "            if op:\n",
    "                stack.append(op)\n",
    "            op = t\n",
    "        elif t == '(':\n",
    "            stack.append(solve(x))\n",
    "            br = 1\n",
    "            while x and br != 0:\n",
    "                t, x = token(x)\n",
    "                if t == '(':\n",
    "                    br += 1\n",
    "                elif t == ')':\n",
    "                    br -= 1\n",
    "        else:\n",
    "            stack.append(t)\n",
    "    if op:\n",
    "        stack.append(op)\n",
    "    a, b = 0, 0\n",
    "    while stack:\n",
    "        if stack[0] == '+':\n",
    "            b = a + b\n",
    "        elif stack[0] == '*':\n",
    "            b = a * b\n",
    "        else:\n",
    "            a, b = b, stack[0]\n",
    "        stack = stack[1:]\n",
    "    return b\n",
    "        \n",
    "print(sum(map(solve, q)))"
   ]
  },
  {
   "cell_type": "code",
   "execution_count": 3,
   "metadata": {},
   "outputs": [
    {
     "output_type": "stream",
     "name": "stdout",
     "text": [
      "8952864356993\n"
     ]
    }
   ],
   "source": [
    "q = data.split('\\n')\n",
    "\n",
    "def solve(x):\n",
    "    def token(x):\n",
    "        if x:\n",
    "            while x and x[0] == ' ':\n",
    "                x = x[1:]\n",
    "            if x:\n",
    "                if x[0].isdigit():\n",
    "                    n = ''\n",
    "                    while x and x[0].isdigit():\n",
    "                        n += x[0]\n",
    "                        x = x[1:]\n",
    "                    return int(n), x\n",
    "                else:\n",
    "                    return x[0], x[1:]\n",
    "        return '', ''\n",
    "    \n",
    "    stack = []\n",
    "    op = ''\n",
    "    while x:\n",
    "        t, x = token(x)\n",
    "        if t == ')' or t=='':\n",
    "            break\n",
    "        elif t in ['+', '*']:\n",
    "            if op:\n",
    "                stack.append(op)\n",
    "            op = t\n",
    "        elif t == '(':\n",
    "            stack.append(solve(x))\n",
    "            br = 1\n",
    "            while x and br != 0:\n",
    "                t, x = token(x)\n",
    "                if t == '(':\n",
    "                    br += 1\n",
    "                elif t == ')':\n",
    "                    br -= 1\n",
    "        else:\n",
    "            stack.append(t)\n",
    "    if op:\n",
    "        stack.append(op)\n",
    "    n = []\n",
    "    while stack:\n",
    "        if stack[0] == '+':\n",
    "            n = n[:-2]+[n[-2] + n[-1]]\n",
    "        elif stack[0] != '*':\n",
    "            n.append(stack[0])\n",
    "        stack = stack[1:]\n",
    "    r = 1\n",
    "    while n:\n",
    "        r *= n[0]\n",
    "        n = n[1:]        \n",
    "    return r\n",
    "        \n",
    "print(sum(map(solve, q)))"
   ]
  }
 ],
 "metadata": {
  "kernelspec": {
   "display_name": "Python 3",
   "language": "python",
   "name": "python3"
  },
  "language_info": {
   "codemirror_mode": {
    "name": "ipython",
    "version": 3
   },
   "file_extension": ".py",
   "mimetype": "text/x-python",
   "name": "python",
   "nbconvert_exporter": "python",
   "pygments_lexer": "ipython3",
   "version": "3.8.6-final"
  }
 },
 "nbformat": 4,
 "nbformat_minor": 4
}