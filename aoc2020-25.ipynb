{
 "cells": [
  {
   "cell_type": "code",
   "execution_count": 1,
   "metadata": {},
   "outputs": [],
   "source": [
    "cardpk = 9033205\n",
    "doorpk = 9281649\n",
    "subj = 7"
   ]
  },
  {
   "cell_type": "code",
   "execution_count": 4,
   "metadata": {},
   "outputs": [
    {
     "output_type": "stream",
     "name": "stdout",
     "text": [
      "9714832\n"
     ]
    }
   ],
   "source": [
    "def nxt(val, subj):\n",
    "    return (val * subj) % 20201227\n",
    "\n",
    "def findloop(x, subj):\n",
    "    v = subj\n",
    "    n = 1\n",
    "    while v != x:\n",
    "        v = nxt(v, subj)\n",
    "        n += 1\n",
    "    return n\n",
    "\n",
    "def loop(val, subj, loopsize):\n",
    "    for _ in range(loopsize-1):\n",
    "        val = nxt(val, subj)\n",
    "    return val\n",
    "\n",
    "cardloop = findloop(cardpk, subj)\n",
    "doorloop = findloop(doorpk, subj)\n",
    "\n",
    "ec = loop(cardpk, cardpk, doorloop)\n",
    "\n",
    "print(ec)"
   ]
  }
 ],
 "metadata": {
  "kernelspec": {
   "display_name": "Python 3",
   "language": "python",
   "name": "python3"
  },
  "language_info": {
   "codemirror_mode": {
    "name": "ipython",
    "version": 3
   },
   "file_extension": ".py",
   "mimetype": "text/x-python",
   "name": "python",
   "nbconvert_exporter": "python",
   "pygments_lexer": "ipython3",
   "version": "3.8.6-final"
  }
 },
 "nbformat": 4,
 "nbformat_minor": 4
}