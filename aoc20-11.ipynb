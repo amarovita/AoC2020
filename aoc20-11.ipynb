{
 "cells": [
  {
   "cell_type": "code",
   "execution_count": 1,
   "metadata": {},
   "outputs": [],
   "source": [
    "data = open('aoc20-11.txt').read()"
   ]
  },
  {
   "cell_type": "code",
   "execution_count": 2,
   "metadata": {},
   "outputs": [
    {
     "output_type": "stream",
     "name": "stdout",
     "text": [
      "2481\n"
     ]
    }
   ],
   "source": [
    "from copy import deepcopy\n",
    "\n",
    "grid = data.split()\n",
    "\n",
    "height = len(grid)\n",
    "width = len(grid[0])\n",
    "\n",
    "grid = ['.' * (width+2)] + ['.' + x + '.' for x in grid] + ['.' * (width+2)]\n",
    "grid = list(map(list, grid))\n",
    "\n",
    "def neib(x, y, grid):\n",
    "    return sum(grid[y+i][x+j] == \"#\" for i in range(3) for j in range(3))\n",
    "def cnt(grid):\n",
    "    return sum(grid[i+1].count(\"#\") for i in range(height))\n",
    "def prn(grid):\n",
    "    for y in range(1, height+1):\n",
    "        for x in range(1, width+1):\n",
    "            print(grid[y][x], end='')\n",
    "        print()\n",
    "    print()\n",
    "\n",
    "f = True\n",
    "while f:\n",
    "    f = False\n",
    "    ng = deepcopy(grid)\n",
    "    for x in range(width):\n",
    "        for y in range(height):\n",
    "            if grid[y+1][x+1] == 'L':\n",
    "                if neib(x, y, grid) == 0:\n",
    "                    ng[y+1][x+1] = \"#\"\n",
    "                    f = True\n",
    "            elif grid[y+1][x+1] == '#':\n",
    "                if neib(x, y, grid) > 4:\n",
    "                    ng[y+1][x+1] = \"L\"\n",
    "                    f = True\n",
    "    grid = ng\n",
    "\n",
    "print(cnt(grid))"
   ]
  },
  {
   "cell_type": "code",
   "execution_count": 3,
   "metadata": {},
   "outputs": [
    {
     "output_type": "stream",
     "name": "stdout",
     "text": [
      "2227\n"
     ]
    }
   ],
   "source": [
    "from copy import deepcopy\n",
    "\n",
    "grid = data.split()\n",
    "\n",
    "height = len(grid)\n",
    "width = len(grid[0])\n",
    "\n",
    "grid = list(map(list, grid))\n",
    "\n",
    "def neib(x, y, grid):\n",
    "    t = 0\n",
    "    for i in range(-1, 2):\n",
    "        for j in range(-1, 2):\n",
    "            for k in range(1, max(width, height)):\n",
    "                u = x + j * k\n",
    "                v = y + i * k\n",
    "                if u < 0 or u >= width or v < 0 or v >= height:\n",
    "                    break\n",
    "                if grid[v][u] == \"#\":\n",
    "                    t += 1\n",
    "                    break\n",
    "                elif grid[v][u] == \"L\":\n",
    "                    break\n",
    "    return t\n",
    "\n",
    "def cnt(grid):\n",
    "    return sum(grid[i].count(\"#\") for i in range(height))\n",
    "\n",
    "def prn(grid):\n",
    "    for y in range(height):\n",
    "        for x in range(width):\n",
    "            print(grid[y][x], end='')\n",
    "        print()\n",
    "    print()\n",
    "\n",
    "f = True\n",
    "while f:\n",
    "    f = False\n",
    "    ng = deepcopy(grid)\n",
    "    for x in range(width):\n",
    "        for y in range(height):\n",
    "            if grid[y][x] == 'L':\n",
    "                if neib(x, y, grid) == 0:\n",
    "                    ng[y][x] = \"#\"\n",
    "                    f = True\n",
    "            elif grid[y][x] == '#':\n",
    "                if neib(x, y, grid) > 5:\n",
    "                    ng[y][x] = \"L\"\n",
    "                    f = True\n",
    "    grid = ng\n",
    "\n",
    "print(cnt(grid))"
   ]
  }
 ],
 "metadata": {
  "kernelspec": {
   "display_name": "Python 3",
   "language": "python",
   "name": "python3"
  },
  "language_info": {
   "codemirror_mode": {
    "name": "ipython",
    "version": 3
   },
   "file_extension": ".py",
   "mimetype": "text/x-python",
   "name": "python",
   "nbconvert_exporter": "python",
   "pygments_lexer": "ipython3",
   "version": "3.8.6-final"
  }
 },
 "nbformat": 4,
 "nbformat_minor": 4
}