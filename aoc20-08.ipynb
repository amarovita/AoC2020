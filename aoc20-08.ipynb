{
 "cells": [
  {
   "cell_type": "code",
   "execution_count": 1,
   "metadata": {},
   "outputs": [],
   "source": [
    "data=open('aoc20-08.txt').read()"
   ]
  },
  {
   "cell_type": "code",
   "execution_count": 2,
   "metadata": {},
   "outputs": [
    {
     "name": "stdout",
     "output_type": "stream",
     "text": [
      "1137\n"
     ]
    }
   ],
   "source": [
    "code = data.replace('+','').split('\\n')\n",
    "\n",
    "code = [z.split() for z in code]\n",
    "\n",
    "acc = ptr = 0\n",
    "\n",
    "while ptr < len(code):\n",
    "    if code[ptr][0] == 'out':\n",
    "        print(acc)\n",
    "        break\n",
    "    c = code[ptr][0]\n",
    "    code[ptr][0] = 'out'\n",
    "    if c == 'acc':\n",
    "        acc += int(code[ptr][1])\n",
    "        ptr += 1\n",
    "    elif c == 'jmp':\n",
    "        ptr += int(code[ptr][1])\n",
    "    elif c == 'nop':\n",
    "        ptr += 1"
   ]
  },
  {
   "cell_type": "code",
   "execution_count": 3,
   "metadata": {},
   "outputs": [
    {
     "name": "stdout",
     "output_type": "stream",
     "text": [
      "1125\n"
     ]
    }
   ],
   "source": [
    "code = data.replace('+','').split('\\n')\n",
    "cnt = len(code)\n",
    "\n",
    "for i in range(cnt):\n",
    "    code = data.replace('+','').split('\\n')\n",
    "    code = [z.split() for z in code]\n",
    "    if code[i][0] == 'acc':\n",
    "        continue\n",
    "    if code[i][0] == \"nop\":\n",
    "        code[i][0] = \"jmp\"\n",
    "    else:\n",
    "        code[i][0] = \"nop\"\n",
    "    acc = ptr = 0\n",
    "    hlt = False\n",
    "    while ptr < len(code) and not hlt:\n",
    "        if code[ptr][0] == 'hlt':\n",
    "            hlt = True\n",
    "            break\n",
    "        c = code[ptr][0]\n",
    "        code[ptr][0] = 'hlt'\n",
    "        if c == 'acc':\n",
    "            acc += int(code[ptr][1])\n",
    "            ptr += 1\n",
    "        elif c == 'jmp':\n",
    "            ptr += int(code[ptr][1])\n",
    "        elif c == 'nop':\n",
    "            ptr += 1\n",
    "    if ptr == cnt:\n",
    "        print(acc)\n",
    "        break\n",
    "    if hlt:\n",
    "        continue\n",
    "    else:\n",
    "        print(acc)\n",
    "        break"
   ]
  }
 ],
 "metadata": {
  "kernelspec": {
   "display_name": "Python 3",
   "language": "python",
   "name": "python3"
  },
  "language_info": {
   "codemirror_mode": {
    "name": "ipython",
    "version": 3
   },
   "file_extension": ".py",
   "mimetype": "text/x-python",
   "name": "python",
   "nbconvert_exporter": "python",
   "pygments_lexer": "ipython3",
   "version": "3.8.6"
  }
 },
 "nbformat": 4,
 "nbformat_minor": 4
}
