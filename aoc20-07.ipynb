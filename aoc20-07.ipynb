{
 "cells": [
  {
   "cell_type": "code",
   "execution_count": 4,
   "metadata": {},
   "outputs": [],
   "source": [
    "data = open('aoc20-07.txt').read()"
   ]
  },
  {
   "cell_type": "code",
   "execution_count": 5,
   "metadata": {},
   "outputs": [],
   "source": [
    "d = data.split(\".\\n\")\n",
    "d = [x.replace('no other bags', '0 any') for x in d]\n",
    "d = [x.replace(' bags', '') for x in d]\n",
    "d = [x.replace(' bag', '') for x in d]\n",
    "d = ['1 ' + x.replace(' contain ', ', ') for x in d]\n",
    "d = [[p.split(' ', 1) for p in x.split(', ')] for x in d ]\n",
    "\n",
    "l = [[x[1] for x in y] for y in d]\n",
    "\n",
    "c = set()\n",
    "for x in l:\n",
    "    c = c | set(x)\n",
    "c = list(c)\n",
    "\n",
    "z = {'any': []}\n",
    "for x in l:\n",
    "    z[x[0]] = x[1:]\n",
    "\n",
    "zz = {'any': []}\n",
    "for x in d:\n",
    "    zz[x[0][1]] = x[1:]"
   ]
  },
  {
   "cell_type": "code",
   "execution_count": 6,
   "metadata": {},
   "outputs": [
    {
     "name": "stdout",
     "output_type": "stream",
     "text": [
      "126\n"
     ]
    }
   ],
   "source": [
    "def cont(x, k, v = None):\n",
    "    if v is None:\n",
    "        v = []\n",
    "    if x in z[k]:\n",
    "        return True\n",
    "    else:\n",
    "        v.append(k)\n",
    "        for y in z[k]:\n",
    "            if y not in v:\n",
    "                v.append(y)\n",
    "                if cont(x, y, v):\n",
    "                    return True\n",
    "    return False\n",
    "\n",
    "t = 0\n",
    "for n in c:\n",
    "    if cont('shiny gold', n):\n",
    "        t += 1\n",
    "print(t)"
   ]
  },
  {
   "cell_type": "code",
   "execution_count": 7,
   "metadata": {},
   "outputs": [
    {
     "name": "stdout",
     "output_type": "stream",
     "text": [
      "220149\n"
     ]
    }
   ],
   "source": [
    "def cin(x):\n",
    "    t = 0\n",
    "    for k in zz[x]:\n",
    "        t += int(k[0])*(1+cin(k[1]))\n",
    "    return t\n",
    "print (cin(\"shiny gold\"))"
   ]
  }
 ],
 "metadata": {
  "kernelspec": {
   "display_name": "Python 3",
   "language": "python",
   "name": "python3"
  },
  "language_info": {
   "codemirror_mode": {
    "name": "ipython",
    "version": 3
   },
   "file_extension": ".py",
   "mimetype": "text/x-python",
   "name": "python",
   "nbconvert_exporter": "python",
   "pygments_lexer": "ipython3",
   "version": "3.8.6"
  }
 },
 "nbformat": 4,
 "nbformat_minor": 4
}
