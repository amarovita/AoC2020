{
 "cells": [
  {
   "cell_type": "code",
   "execution_count": 2,
   "metadata": {},
   "outputs": [],
   "source": [
    "data = open('aoc20-19.txt').read()\n",
    "rulesrc, messagesrc = data.split('\\n\\n')"
   ]
  },
  {
   "cell_type": "code",
   "execution_count": 3,
   "metadata": {},
   "outputs": [
    {
     "output_type": "stream",
     "name": "stdout",
     "text": [
      "111\n"
     ]
    }
   ],
   "source": [
    "import re\n",
    "rules=rulesrc.split('\\n')\n",
    "rules=dict(x.split(': ') for x in rules)\n",
    "messages = messagesrc.split('\\n')\n",
    "\n",
    "cache = {}\n",
    "\n",
    "def parse(rule, rules):\n",
    "    if rule in cache:\n",
    "        return cache[rule]\n",
    "    if rules[rule] == '\"a\"':\n",
    "        r = 'a'\n",
    "    elif rules[rule] == '\"b\"':\n",
    "        r = 'b'\n",
    "    else:\n",
    "        r = '('\n",
    "        for k in rules[rule].split():\n",
    "            if k == '|':\n",
    "                r +=k\n",
    "            else:\n",
    "                r += parse(k, rules)\n",
    "        r += ')'\n",
    "    cache[rule] = r\n",
    "    return r\n",
    "\n",
    "r0 = parse('0', rules) + '$'\n",
    "\n",
    "re0 = re.compile(r0)\n",
    "\n",
    "print(sum(1 for x in messages if re0.match(x)))\n",
    "    \n",
    "    "
   ]
  },
  {
   "cell_type": "code",
   "execution_count": 4,
   "metadata": {},
   "outputs": [
    {
     "output_type": "stream",
     "name": "stdout",
     "text": [
      "343\n"
     ]
    }
   ],
   "source": [
    "import re\n",
    "rules=rulesrc.split('\\n')\n",
    "rules=dict(x.split(': ') for x in rules)\n",
    "messages = messagesrc.split('\\n')\n",
    "\n",
    "cache = {'8':'X', '11':'Y'}\n",
    "\n",
    "def parse(rule, rules):\n",
    "    if rule in cache:\n",
    "        return cache[rule]\n",
    "    if rules[rule] == '\"a\"':\n",
    "        r = 'a'\n",
    "    elif rules[rule] == '\"b\"':\n",
    "        r = 'b'\n",
    "    else:\n",
    "        r = '('\n",
    "        for k in rules[rule].split():\n",
    "            if k == '|':\n",
    "                r +=k\n",
    "            else:\n",
    "                r += parse(k, rules)\n",
    "        r += ')'\n",
    "    cache[rule] = r\n",
    "    return r\n",
    "for r in rules:\n",
    "    parse(r, rules)\n",
    "    \n",
    "cache['8'] = cache['42'] + '+'\n",
    "cache['11'] = (\n",
    "    '(' \n",
    "    + cache['42'] + cache['31'] \n",
    "    + '|'\n",
    "    + cache['42'] + cache['42'] + cache['31'] + cache['31'] \n",
    "    + '|'\n",
    "    + cache['42'] + cache['42'] + cache['42'] + cache['31'] + cache['31'] + cache['31'] \n",
    "    + '|'\n",
    "    + cache['42'] + cache['42'] + cache['42'] + cache['42'] + cache['31'] + cache['31'] + cache['31'] + cache['31'] \n",
    "    + '|'\n",
    "    + cache['42'] + cache['42'] + cache['42'] + cache['42'] + cache['42'] + cache['31'] + cache['31'] + cache['31'] + cache['31'] + cache['31']\n",
    "    + ')'\n",
    "    )\n",
    "r0 = parse('0', rules) + '$'\n",
    "r0 = r0.replace('X', cache['8']).replace('Y', cache['11'])\n",
    "# print(r0)\n",
    "\n",
    "re0 = re.compile(r0)\n",
    "\n",
    "print(sum(1 for x in messages if re0.match(x)))\n"
   ]
  }
 ],
 "metadata": {
  "kernelspec": {
   "display_name": "Python 3",
   "language": "python",
   "name": "python3"
  },
  "language_info": {
   "codemirror_mode": {
    "name": "ipython",
    "version": 3
   },
   "file_extension": ".py",
   "mimetype": "text/x-python",
   "name": "python",
   "nbconvert_exporter": "python",
   "pygments_lexer": "ipython3",
   "version": "3.8.6-final"
  }
 },
 "nbformat": 4,
 "nbformat_minor": 4
}