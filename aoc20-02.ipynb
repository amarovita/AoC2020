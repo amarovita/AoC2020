{
 "cells": [
  {
   "cell_type": "code",
   "execution_count": 1,
   "metadata": {},
   "outputs": [],
   "source": [
    "data = open('aoc20-02.txt').read()"
   ]
  },
  {
   "cell_type": "code",
   "execution_count": 2,
   "metadata": {},
   "outputs": [
    {
     "name": "stdout",
     "output_type": "stream",
     "text": [
      "560\n"
     ]
    }
   ],
   "source": [
    "d = map(str.strip,data.splitlines())\n",
    "t = 0\n",
    "for p in d:\n",
    "    y, w = p.split(':')\n",
    "    w = w.strip()\n",
    "    c, l = y.split()\n",
    "    a, b = map(int, c.split('-'))\n",
    "    t += a <= w.count(l) <= b\n",
    "print(t)"
   ]
  },
  {
   "cell_type": "code",
   "execution_count": 3,
   "metadata": {},
   "outputs": [
    {
     "name": "stdout",
     "output_type": "stream",
     "text": [
      "303\n"
     ]
    }
   ],
   "source": [
    "d = map(str.strip,data.splitlines())\n",
    "t = 0\n",
    "for p in d:\n",
    "    y, w = p.split(':')\n",
    "    c, l = y.split()\n",
    "    a, b = map(int, c.split('-'))\n",
    "    t += ((w[a] == l) + (w[b] == l) == 1)\n",
    "print(t)"
   ]
  }
 ],
 "metadata": {
  "kernelspec": {
   "display_name": "Python 3",
   "language": "python",
   "name": "python3"
  },
  "language_info": {
   "codemirror_mode": {
    "name": "ipython",
    "version": 3
   },
   "file_extension": ".py",
   "mimetype": "text/x-python",
   "name": "python",
   "nbconvert_exporter": "python",
   "pygments_lexer": "ipython3",
   "version": "3.8.6"
  }
 },
 "nbformat": 4,
 "nbformat_minor": 4
}
