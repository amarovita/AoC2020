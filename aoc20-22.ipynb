{
 "cells": [
  {
   "cell_type": "code",
   "execution_count": 1,
   "metadata": {},
   "outputs": [],
   "source": [
    "data1 = \"\"\"23 32 46 47 27 35 1 16 37 50 15 11 14 31 4 38 21 39 26 22 3 2 8 45 19\"\"\"\n",
    "data2=\"\"\"13 20 12 28 9 10 30 25 18 36 48 41 29 24 49 33 44 40 6 34 7 43 42 17 5\"\"\""
   ]
  },
  {
   "cell_type": "code",
   "execution_count": 3,
   "metadata": {},
   "outputs": [
    {
     "output_type": "stream",
     "name": "stdout",
     "text": [
      "32366\n"
     ]
    }
   ],
   "source": [
    "p1 = list(map(int, data1.split()))\n",
    "p2 = list(map(int, data2.split()))\n",
    "\n",
    "while p1 and p2:\n",
    "    c1 = p1.pop(0)    \n",
    "    c2 = p2.pop(0)\n",
    "    if c1>c2:\n",
    "        p1.extend([c1, c2])\n",
    "    else:\n",
    "        p2.extend([c2, c1])\n",
    "        \n",
    "w = p1 if p1 else p2\n",
    "s = sum(x*y for x, y in enumerate(reversed(w), 1))\n",
    "print(s)"
   ]
  },
  {
   "cell_type": "code",
   "execution_count": 5,
   "metadata": {},
   "outputs": [
    {
     "output_type": "stream",
     "name": "stdout",
     "text": [
      "30891\n"
     ]
    }
   ],
   "source": [
    "p = [list(map(int, data1.split())), list(map(int, data2.split()))]\n",
    "\n",
    "def subgame(p, n=1):\n",
    "    cache=[]\n",
    "    while all(p):\n",
    "        if p in cache:\n",
    "            p[1] == []\n",
    "            break\n",
    "        else:\n",
    "            cache.append(p)\n",
    "        c = [x[0] for x in p]\n",
    "        np = [x[1:] for x in p]\n",
    "        if all(x <= len(y) for x, y in zip(c, np)):\n",
    "            w, _ = subgame([np[0][:c[0]], np[1][:c[1]]], n+1)\n",
    "            np[w].extend([c[w], c[1-w]])\n",
    "        else:\n",
    "            w = 0 if c[0]>c[1] else 1\n",
    "            np[w].extend(sorted(c, reverse=True))\n",
    "        p = np\n",
    "    return (0, p[0]) if p[0] else (1, p[1])\n",
    "\n",
    "_, w = subgame(p)\n",
    "s = sum(x*y for x, y in enumerate(reversed(w), 1))\n",
    "print(s)"
   ]
  }
 ],
 "metadata": {
  "kernelspec": {
   "display_name": "Python 3",
   "language": "python",
   "name": "python3"
  },
  "language_info": {
   "codemirror_mode": {
    "name": "ipython",
    "version": 3
   },
   "file_extension": ".py",
   "mimetype": "text/x-python",
   "name": "python",
   "nbconvert_exporter": "python",
   "pygments_lexer": "ipython3",
   "version": "3.8.6-final"
  }
 },
 "nbformat": 4,
 "nbformat_minor": 4
}