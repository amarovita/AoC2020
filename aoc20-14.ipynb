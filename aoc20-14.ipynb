{
 "cells": [
  {
   "cell_type": "code",
   "execution_count": 1,
   "metadata": {},
   "outputs": [],
   "source": [
    "data = open('aoc20-14.txt').read()"
   ]
  },
  {
   "cell_type": "code",
   "execution_count": 2,
   "metadata": {},
   "outputs": [
    {
     "output_type": "stream",
     "name": "stdout",
     "text": [
      "14925946402938\n"
     ]
    }
   ],
   "source": [
    "code = data.split('\\n')\n",
    "code = [list(x.split(' = ')) for x in code]\n",
    "andmask = int('1' * 36, 2)\n",
    "ormask = int('0' * 36, 2)\n",
    "mem={}\n",
    "for c, v in code:\n",
    "    if c == 'mask':\n",
    "        andmask = int(v.replace('X', '1'), 2)        \n",
    "        ormask = int(v.replace('X', '0'), 2)\n",
    "    else:\n",
    "        mem[int(c.replace('mem[', '').replace(']', ''))] = int(v) & andmask | ormask\n",
    "print(sum(mem.values()))"
   ]
  },
  {
   "cell_type": "code",
   "execution_count": 3,
   "metadata": {},
   "outputs": [
    {
     "output_type": "stream",
     "name": "stdout",
     "text": [
      "3706820676200\n"
     ]
    }
   ],
   "source": [
    "code = data.split('\\n')\n",
    "code = [list(x.split(' = ')) for x in code]\n",
    "mask = 'X' * 36\n",
    "mem={}\n",
    "for c, v in code:\n",
    "    if c == 'mask':\n",
    "        mask = v\n",
    "    else:\n",
    "        address = bin(int(c.replace('mem[', '').replace(']', '')))[2:].zfill(36)\n",
    "        n = mask.count('X')\n",
    "        for x in range(2**n):\n",
    "            r = ''\n",
    "            p = bin(x)[2:].zfill(n)\n",
    "            for i, z in enumerate(mask):\n",
    "                if z == '0':\n",
    "                    r += address[i]\n",
    "                elif z == '1':\n",
    "                    r += '1'\n",
    "                else:\n",
    "                    r += p[0]\n",
    "                    p = p[1:]\n",
    "            mem[int(r, 2)] = int(v)\n",
    "                \n",
    "print(sum(mem.values()))"
   ]
  }
 ],
 "metadata": {
  "kernelspec": {
   "display_name": "Python 3",
   "language": "python",
   "name": "python3"
  },
  "language_info": {
   "codemirror_mode": {
    "name": "ipython",
    "version": 3
   },
   "file_extension": ".py",
   "mimetype": "text/x-python",
   "name": "python",
   "nbconvert_exporter": "python",
   "pygments_lexer": "ipython3",
   "version": "3.8.6-final"
  }
 },
 "nbformat": 4,
 "nbformat_minor": 4
}