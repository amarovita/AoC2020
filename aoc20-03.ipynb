{
 "cells": [
  {
   "cell_type": "code",
   "execution_count": 1,
   "metadata": {},
   "outputs": [],
   "source": [
    "data = open('aoc20-03.txt').read()"
   ]
  },
  {
   "cell_type": "code",
   "execution_count": 2,
   "metadata": {},
   "outputs": [
    {
     "name": "stdout",
     "output_type": "stream",
     "text": [
      "151\n"
     ]
    }
   ],
   "source": [
    "lab = data.split('\\n')\n",
    "x, y, t = 0, 0, 0\n",
    "while y < len(lab):\n",
    "    if lab[y][x] == '#':\n",
    "        t += 1\n",
    "    y += 1\n",
    "    x = (x + 3) % len(lab[0])\n",
    "print(t)"
   ]
  },
  {
   "cell_type": "code",
   "execution_count": 3,
   "metadata": {},
   "outputs": [
    {
     "name": "stdout",
     "output_type": "stream",
     "text": [
      "7540141059\n"
     ]
    }
   ],
   "source": [
    "lab = data.split('\\n')\n",
    "m = 1\n",
    "for a, b in ((1, 1), (3, 1), (5, 1), (7, 1), (1, 2)):\n",
    "    x, y, t = 0, 0, 0\n",
    "    while y < len(lab):\n",
    "        if lab[y][x] == '#':\n",
    "            t += 1\n",
    "        y += b\n",
    "        x = (x + a) % len(lab[0])\n",
    "    m *= t\n",
    "print(m)\n",
    "    "
   ]
  }
 ],
 "metadata": {
  "kernelspec": {
   "display_name": "Python 3",
   "language": "python",
   "name": "python3"
  },
  "language_info": {
   "codemirror_mode": {
    "name": "ipython",
    "version": 3
   },
   "file_extension": ".py",
   "mimetype": "text/x-python",
   "name": "python",
   "nbconvert_exporter": "python",
   "pygments_lexer": "ipython3",
   "version": "3.8.6"
  }
 },
 "nbformat": 4,
 "nbformat_minor": 4
}
