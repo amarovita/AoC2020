{
 "cells": [
  {
   "cell_type": "code",
   "execution_count": 5,
   "metadata": {},
   "outputs": [],
   "source": [
    "data = open('aoc20-24.txt').read()"
   ]
  },
  {
   "cell_type": "code",
   "execution_count": 7,
   "metadata": {},
   "outputs": [
    {
     "output_type": "stream",
     "name": "stdout",
     "text": [
      "322\n"
     ]
    }
   ],
   "source": [
    "import re\n",
    "xmoves = data.split('\\n')\n",
    "parse = re.compile('(w|e|nw|ne|sw|se)')\n",
    "moves = list(map(lambda x: list(parse.findall(x)), xmoves))\n",
    "\n",
    "ds = {\n",
    "    'w':(-1, 0),\n",
    "    'e':(1, 0),\n",
    "    'nw':(0, 1),\n",
    "    'ne':(1, 1),\n",
    "    'sw':(-1, -1),\n",
    "    'se':(0, -1)\n",
    "}\n",
    "\n",
    "blacks = set()\n",
    "\n",
    "for move in moves:\n",
    "    x, y = (0, 0)\n",
    "    for step in move:\n",
    "        x, y = x + ds[step][0], y + ds[step][1]\n",
    "    blacks ^= {(x, y)}\n",
    "\n",
    "print(len(blacks))"
   ]
  },
  {
   "cell_type": "code",
   "execution_count": 8,
   "metadata": {},
   "outputs": [
    {
     "output_type": "stream",
     "name": "stdout",
     "text": [
      "3831\n"
     ]
    }
   ],
   "source": [
    "from copy import deepcopy \n",
    "\n",
    "def neib(x, y, blacks):\n",
    "    n = 0\n",
    "    for d in ds.values():\n",
    "        n += (x + d[0], y + d[1]) in blacks\n",
    "    return n\n",
    "\n",
    "def sz(blacks):\n",
    "    return (\n",
    "        min(x[0] for x in blacks) - 2, \n",
    "        max(x[0] for x in blacks) + 3, \n",
    "        min(x[1] for x in blacks) - 2, \n",
    "        max(x[1] for x in blacks) + 3\n",
    "    )\n",
    "\n",
    "for _ in range(100):\n",
    "    z = sz(blacks)\n",
    "    nb = deepcopy(blacks)\n",
    "    for y in range(z[2], z[3]):\n",
    "        for x in range(z[0], z[1]):\n",
    "            n = neib(x, y, blacks)\n",
    "            b = (x, y) in blacks\n",
    "            if (b and (n not in (1, 2))) or ((not b) and (n == 2)):\n",
    "                nb ^= {(x, y)}\n",
    "    blacks = nb\n",
    "    \n",
    "print(len(blacks))"
   ]
  }
 ],
 "metadata": {
  "kernelspec": {
   "display_name": "Python 3",
   "language": "python",
   "name": "python3"
  },
  "language_info": {
   "codemirror_mode": {
    "name": "ipython",
    "version": 3
   },
   "file_extension": ".py",
   "mimetype": "text/x-python",
   "name": "python",
   "nbconvert_exporter": "python",
   "pygments_lexer": "ipython3",
   "version": "3.8.6-final"
  }
 },
 "nbformat": 4,
 "nbformat_minor": 4
}