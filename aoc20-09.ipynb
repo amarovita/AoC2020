{
 "cells": [
  {
   "cell_type": "code",
   "execution_count": 1,
   "metadata": {},
   "outputs": [],
   "source": [
    "data=open('aoc20-09.txt').read()"
   ]
  },
  {
   "cell_type": "code",
   "execution_count": 6,
   "metadata": {},
   "outputs": [
    {
     "name": "stdout",
     "output_type": "stream",
     "text": [
      "731031916\n"
     ]
    }
   ],
   "source": [
    "from itertools import combinations\n",
    "\n",
    "d = list(map(int, data.split('\\n')))\n",
    "\n",
    "for i in range(25, len(d)):\n",
    "    x = d[i]\n",
    "    for p in combinations(d[i-25:i], 2):\n",
    "        if x==sum(p):\n",
    "            break\n",
    "    else:\n",
    "        print(x)\n",
    "        break\n"
   ]
  },
  {
   "cell_type": "code",
   "execution_count": 8,
   "metadata": {},
   "outputs": [
    {
     "name": "stdout",
     "output_type": "stream",
     "text": [
      "93396727\n"
     ]
    }
   ],
   "source": [
    "for i in range(0, len(d)-1):\n",
    "    t = d[i]\n",
    "    s=[d[i]]\n",
    "    for j in range(i+1, len(d)):\n",
    "        s.append(d[j])\n",
    "        t += d[j]\n",
    "        if t == x:\n",
    "            print(min(s)+max(s))\n",
    "            break"
   ]
  }
 ],
 "metadata": {
  "kernelspec": {
   "display_name": "Python 3",
   "language": "python",
   "name": "python3"
  },
  "language_info": {
   "codemirror_mode": {
    "name": "ipython",
    "version": 3
   },
   "file_extension": ".py",
   "mimetype": "text/x-python",
   "name": "python",
   "nbconvert_exporter": "python",
   "pygments_lexer": "ipython3",
   "version": "3.8.6"
  }
 },
 "nbformat": 4,
 "nbformat_minor": 4
}
