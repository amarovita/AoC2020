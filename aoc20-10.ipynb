{
 "cells": [
  {
   "cell_type": "code",
   "execution_count": 1,
   "metadata": {},
   "outputs": [],
   "source": [
    "data = open('aoc20-10.txt').read()"
   ]
  },
  {
   "cell_type": "code",
   "execution_count": 2,
   "metadata": {},
   "outputs": [
    {
     "name": "stdout",
     "output_type": "stream",
     "text": [
      "2760\n"
     ]
    }
   ],
   "source": [
    "v = [0] + sorted(list(map(int, data.split())))\n",
    "v.append(v[-1]+3)\n",
    "print(sum(1 for x, y in zip(v, v[1:]) if y-x == 1) * sum(1 for x, y in zip(v, v[1:]) if y-x == 3))"
   ]
  },
  {
   "cell_type": "code",
   "execution_count": 4,
   "metadata": {},
   "outputs": [
    {
     "name": "stdout",
     "output_type": "stream",
     "text": [
      "13816758796288\n"
     ]
    }
   ],
   "source": [
    "v = [0] + sorted(list(map(int, data.split())))\n",
    "v.append(v[-1]+3)\n",
    "\n",
    "\n",
    "tri = [[0]]\n",
    "\n",
    "for x in v[1:]:\n",
    "    if x - tri[-1][-1] == 3:\n",
    "        tri.append([x])\n",
    "    else:\n",
    "        tri[-1].append(x)\n",
    "\n",
    "tri = [x for x in tri if len(x) > 2]\n",
    "\n",
    "\n",
    "def valid(x):\n",
    "    return not any(x[i]-x[i-1] > 3 for i in range(1, len(x)))\n",
    "\n",
    "def cnt(x):\n",
    "    t = 0\n",
    "    for i in range(2 ** (len(x)-2)):\n",
    "        b = \"1\" + bin(i)[2:].zfill(len(x)-2) + \"1\"\n",
    "        z = []\n",
    "        for f, n in zip(b, x):\n",
    "            if f == \"1\":\n",
    "                z.append(n)\n",
    "        t += valid(z)\n",
    "    return t\n",
    "    \n",
    "s = 1\n",
    "for x in tri:\n",
    "    s *= cnt(x)\n",
    "\n",
    "print(s)\n",
    "    \n"
   ]
  }
 ],
 "metadata": {
  "kernelspec": {
   "display_name": "Python 3",
   "language": "python",
   "name": "python3"
  },
  "language_info": {
   "codemirror_mode": {
    "name": "ipython",
    "version": 3
   },
   "file_extension": ".py",
   "mimetype": "text/x-python",
   "name": "python",
   "nbconvert_exporter": "python",
   "pygments_lexer": "ipython3",
   "version": "3.8.6"
  }
 },
 "nbformat": 4,
 "nbformat_minor": 4
}
